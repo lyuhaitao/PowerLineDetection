{
 "cells": [
  {
   "cell_type": "code",
   "execution_count": null,
   "metadata": {},
   "outputs": [],
   "source": [
    "# default_exp lyufunc"
   ]
  },
  {
   "cell_type": "markdown",
   "metadata": {},
   "source": [
    "# Functions\n",
    "> all self-defined functions can be used to extract lines from LiDAR data."
   ]
  },
  {
   "cell_type": "code",
   "execution_count": null,
   "metadata": {},
   "outputs": [],
   "source": [
    "#hide\n",
    "from nbdev.showdoc import *"
   ]
  },
  {
   "cell_type": "code",
   "execution_count": null,
   "metadata": {},
   "outputs": [],
   "source": [
    "#export\n",
    "from lyutool.lyuds import *\n",
    "import numpy as np"
   ]
  },
  {
   "cell_type": "code",
   "execution_count": null,
   "metadata": {},
   "outputs": [],
   "source": [
    "#export\n",
    "def generateLPByIDS(idx):\n",
    "    \"\"\"generate a Lpoints class based on a point list.\n",
    "    \n",
    "       idx : bool type like [ True False  True False  True False  True  True False False]\n",
    "    \"\"\"\n",
    "    a = np.argwhere(idx == True)\n",
    "    a = a.T\n",
    "    nid = a.ravel()\n",
    "    return LPoints(nid)"
   ]
  },
  {
   "cell_type": "code",
   "execution_count": null,
   "metadata": {},
   "outputs": [
    {
     "name": "stdout",
     "output_type": "stream",
     "text": [
      "[37 12 72  9 75  5 79 64 16  1]\n",
      "[ True False  True False  True False  True  True False False]\n",
      "[0, 1, 2, 3, 4]\n",
      "[0, 2, 4, 6, 7]\n",
      "[0 2 4 6 7]\n"
     ]
    },
    {
     "data": {
      "text/plain": [
       "array([37, 72, 75, 79, 64])"
      ]
     },
     "execution_count": null,
     "metadata": {},
     "output_type": "execute_result"
    }
   ],
   "source": [
    "np.random.seed(1)\n",
    "a = np.random.randint(0,80,10)\n",
    "print(a)\n",
    "idx = a > 30\n",
    "print(idx)\n",
    "lp = generateLPByIDS(idx)\n",
    "print([i for i in lp.dic.keys()])\n",
    "print([i for i in lp.dic.values()])\n",
    "print(np.array(list(lp.dic.values())))\n",
    "a[list(lp.dic.values())]"
   ]
  },
  {
   "cell_type": "code",
   "execution_count": null,
   "metadata": {},
   "outputs": [],
   "source": [
    "#export\n",
    "def getPointsFromSource(**kwargs):\n",
    "    \"\"\" Based on the class LPoints, obtain points from the original data.\n",
    "    \n",
    "        {'LP': lp, 'POINTS':xyz}\n",
    "    \"\"\"\n",
    "    lp = kwargs['LP']\n",
    "    xyz = kwargs['POINTS']\n",
    "    return xyz[list(lp.dic.values())]"
   ]
  },
  {
   "cell_type": "code",
   "execution_count": null,
   "metadata": {},
   "outputs": [
    {
     "name": "stdout",
     "output_type": "stream",
     "text": [
      "[37 12 72  9 75  5 79 64 16  1]\n",
      "[ True False  True False  True False  True  True False False]\n"
     ]
    },
    {
     "data": {
      "text/plain": [
       "array([37, 72, 75, 79, 64])"
      ]
     },
     "execution_count": null,
     "metadata": {},
     "output_type": "execute_result"
    }
   ],
   "source": [
    "np.random.seed(1)\n",
    "a = np.random.randint(0,80,10)\n",
    "print(a)\n",
    "idx = a > 30\n",
    "print(idx)\n",
    "lp = generateLPByIDS(idx)\n",
    "kwargs = {'LP': lp, 'POINTS':a}\n",
    "getPointsFromSource(**kwargs)"
   ]
  },
  {
   "cell_type": "code",
   "execution_count": null,
   "metadata": {},
   "outputs": [
    {
     "name": "stdout",
     "output_type": "stream",
     "text": [
      "[[37 12 72]\n",
      " [ 9 75  5]\n",
      " [79 64 16]\n",
      " [ 1 76 71]\n",
      " [ 6 25 50]\n",
      " [20 18 11]\n",
      " [28 29 14]\n",
      " [50 68 13]]\n",
      "[ True False False  True  True False False False]\n"
     ]
    },
    {
     "data": {
      "text/plain": [
       "array([[37, 12, 72],\n",
       "       [ 1, 76, 71],\n",
       "       [ 6, 25, 50]])"
      ]
     },
     "execution_count": null,
     "metadata": {},
     "output_type": "execute_result"
    }
   ],
   "source": [
    "np.random.seed(1)\n",
    "a = np.random.randint(0,80,(8,3))\n",
    "print(a)\n",
    "idx = a[:,2] > 30\n",
    "print(idx)\n",
    "lp = generateLPByIDS(idx)\n",
    "kwargs = {'LP': lp, 'POINTS':a}\n",
    "getPointsFromSource(**kwargs)"
   ]
  },
  {
   "cell_type": "code",
   "execution_count": null,
   "metadata": {},
   "outputs": [],
   "source": [
    "#export\n",
    "def locatePointsFromBuffer_3D(**kwargs):\n",
    "    \"\"\"\n",
    "    Description: obtain points from original point cloud base on the image buffer in 3D space\n",
    "    \n",
    "                self-defined the range of Z axis (Height) is used.\n",
    "    \n",
    "    \"\"\"\n",
    "    img_buffer = kwargs['img_buffer']\n",
    "    min_xyz = kwargs['min_xyz']\n",
    "    pts = kwargs['pts']\n",
    "    cellsize = kwargs['cellsize']\n",
    "    zrange = kwargs['zrange'] # [z_min, z_max]\n",
    "    z_min, z_max = zrange\n",
    "    #\n",
    "    ly, lx = np.nonzero(img_buffer)\n",
    "    x_min, y_min = min_xyz[0:2]\n",
    "    px = cellsize * lx + x_min\n",
    "    py = cellsize * ly + y_min\n",
    "    nid_line=[]\n",
    "    zipped = zip(px,py)\n",
    "    for i,j in zipped:\n",
    "        fcx = np.logical_and(pts[:,0] >= i, pts[:,0] < (i + cellsize))\n",
    "        fcy = np.logical_and(pts[:,1] >= j, pts[:,1] < (j + cellsize))\n",
    "        fcz = np.logical_and(pts[:,2] >= z_min, pts[:,2] <= z_max)\n",
    "        idx = np.logical_and(fcx, fcy)\n",
    "        idx = np.logical_and(idx, fcz)\n",
    "        a = np.argwhere(idx==True)\n",
    "        a = a.ravel()\n",
    "        nid_line = nid_line + a.tolist()\n",
    "    return nid_line"
   ]
  },
  {
   "cell_type": "code",
   "execution_count": null,
   "metadata": {},
   "outputs": [],
   "source": [
    "#export\n",
    "def calOutlierByIQR(a):\n",
    "    \"\"\"\n",
    "    Calculating the Outlier Fences Using the Interquartile Range.\n",
    "    return: [lower inner fence, lower outer fence, upper inner fence, upper outer fence]\n",
    "    \"\"\"\n",
    "    iqr = np.quantile(a,0.75) - np.quantile(a,0.25)\n",
    "    inner_para = iqr * 1.5\n",
    "    outer_para = iqr * 3\n",
    "    lower_inner_fence = np.quantile(a,0.25) - inner_para\n",
    "    lower_outer_fence = np.quantile(a,0.25) - outer_para\n",
    "    upper_inner_fence = np.quantile(a,0.75) + inner_para\n",
    "    upper_outer_fence = np.quantile(a,0.75) + outer_para\n",
    "    return {'lower_inner_fence': lower_inner_fence,\n",
    "            'lower_outer_fence': lower_outer_fence,\n",
    "            'upper_inner_fence': upper_inner_fence,\n",
    "            'upper_outer_fence': upper_outer_fence\n",
    "           }"
   ]
  },
  {
   "cell_type": "code",
   "execution_count": null,
   "metadata": {},
   "outputs": [
    {
     "data": {
      "text/plain": [
       "{'lower_inner_fence': 38.0,\n",
       " 'lower_outer_fence': 26.0,\n",
       " 'upper_inner_fence': 70.0,\n",
       " 'upper_outer_fence': 82.0}"
      ]
     },
     "execution_count": null,
     "metadata": {},
     "output_type": "execute_result"
    }
   ],
   "source": [
    "a = [0, 50,52, 55, 54, 58, 100, 101,1]\n",
    "d = calOutlierByIQR(a)\n",
    "d"
   ]
  },
  {
   "cell_type": "code",
   "execution_count": null,
   "metadata": {},
   "outputs": [],
   "source": [
    "#export\n",
    "def generateLineBordersByBuffer(**kwargs):\n",
    "    \"\"\"\n",
    "    generate borders of powerlines based on the corridors\n",
    "    \"\"\"\n",
    "    img_buffer = kwargs['img_buffer']\n",
    "    min_xyz = kwargs['min_xyz']\n",
    "    pts = kwargs['pts'] # deep copy of the original data\n",
    "    #\n",
    "    b = np.zeros((pts.shape[0],2))\n",
    "    pts = np.hstack((pts,b))\n",
    "    #\n",
    "    cellsize = kwargs['cellsize']\n",
    "    ly, lx = np.nonzero(img_buffer)\n",
    "    x_min, y_min = min_xyz[0:2]\n",
    "    px = cellsize * lx + x_min\n",
    "    py = cellsize * ly + y_min\n",
    "    nid_line=[]\n",
    "    zipped = zip(px,py)\n",
    "    for i,j in zipped:\n",
    "        fcx = np.logical_and(pts[:,0] >= i, pts[:,0] < (i + cellsize))\n",
    "        fcy = np.logical_and(pts[:,1] >= j, pts[:,1] < (j + cellsize))\n",
    "        idx = np.logical_and(fcx, fcy)\n",
    "        a = pts[idx,2]\n",
    "        if len(a) == 0:\n",
    "            continue\n",
    "        dic_border = calOutlierByIQR(a)\n",
    "        lower_inner_fence = dic_border['lower_inner_fence']\n",
    "        upper_inner_fence = dic_border['upper_inner_fence']\n",
    "        pts[idx, 3] = lower_inner_fence\n",
    "        pts[idx, 4] = upper_inner_fence\n",
    "        #\n",
    "        a = np.argwhere(idx==True)\n",
    "        a = a.ravel()\n",
    "        nid_line = nid_line + a.tolist()\n",
    "    return pts[np.unique(nid_line)]"
   ]
  },
  {
   "cell_type": "code",
   "execution_count": null,
   "metadata": {},
   "outputs": [],
   "source": [
    "#export\n",
    "def extractLineFromTarget(**kwargs):\n",
    "    \"\"\"\n",
    "    based on the corridor and the related points, extract lines from original point clouds.\n",
    "    \"\"\"\n",
    "    img_buffer = kwargs['img_buffer']\n",
    "    min_xyz = kwargs['min_xyz']\n",
    "    cellsize = kwargs['cellsize']\n",
    "    pts_target = kwargs['pts_target'] # deep copy of the original data\n",
    "    pts_buffer = kwargs['pts_buffer']\n",
    "    zrange = kwargs['zrange']\n",
    "    zmin,zmax = zrange\n",
    "    ly, lx = np.nonzero(img_buffer)\n",
    "    x_min, y_min = min_xyz[0:2]\n",
    "    px = cellsize * lx + x_min\n",
    "    py = cellsize * ly + y_min\n",
    "    nid_line=[]\n",
    "    zipped = zip(px,py)\n",
    "    for i,j in zipped:\n",
    "        fcx = np.logical_and(pts_buffer[:,0] >= i, pts_buffer[:,0] < (i + cellsize))\n",
    "        fcy = np.logical_and(pts_buffer[:,1] >= j, pts_buffer[:,1] < (j + cellsize))\n",
    "        idx = np.logical_and(fcx, fcy)\n",
    "        a = pts_buffer[idx,2]\n",
    "        if len(a) == 0:\n",
    "            continue\n",
    "        dic_border = calOutlierByIQR(a)\n",
    "        lower_inner_fence = dic_border['lower_inner_fence']\n",
    "        upper_inner_fence = dic_border['upper_inner_fence']\n",
    "        lower_inner_fence = max(lower_inner_fence, min(a))\n",
    "        upper_inner_fence = min(upper_inner_fence, max(a))\n",
    "        # begin to filter target point cloud\n",
    "        fcx = np.logical_and(pts_target[:,0] >= i, pts_target[:,0] < (i + cellsize))\n",
    "        fcy = np.logical_and(pts_target[:,1] >= j, pts_target[:,1] < (j + cellsize))\n",
    "        fcz = np.logical_and(pts_target[:,2] >  lower_inner_fence, pts_target[:,2] < upper_inner_fence)\n",
    "        idx = np.logical_and(fcx, fcy)\n",
    "        idx = np.logical_and(fcz, idx)\n",
    "        a = np.argwhere(idx==True)\n",
    "        a = a.ravel()\n",
    "        nid_line = nid_line + a.tolist()\n",
    "    return nid_line"
   ]
  },
  {
   "cell_type": "code",
   "execution_count": null,
   "metadata": {},
   "outputs": [],
   "source": [
    "# export\n",
    "def extractLineFromTarget_dales(**kwargs):\n",
    "    \"\"\"\n",
    "    based on the corridor and the related points, extract lines from original point clouds.\n",
    "    \"\"\"\n",
    "    img_buffer = kwargs['img_buffer']\n",
    "    min_xyz = kwargs['min_xyz']\n",
    "    cellsize = kwargs['cellsize']\n",
    "    pts_target = kwargs['pts_target'] # deep copy of the original data\n",
    "    pts_buffer = kwargs['pts_buffer']\n",
    "    ly, lx = np.nonzero(img_buffer)\n",
    "    x_min, y_min = min_xyz[0:2]\n",
    "    px = cellsize * lx + x_min\n",
    "    py = cellsize * ly + y_min\n",
    "    nid_line=[]\n",
    "    zipped = zip(px,py)\n",
    "    for i,j in zipped:\n",
    "        fcx = np.logical_and(pts_buffer[:,0] >= i, pts_buffer[:,0] < (i + cellsize))\n",
    "        fcy = np.logical_and(pts_buffer[:,1] >= j, pts_buffer[:,1] < (j + cellsize))\n",
    "        idx = np.logical_and(fcx, fcy)\n",
    "        a = pts_buffer[idx,2]\n",
    "        if len(a) == 0:\n",
    "            continue\n",
    "        dic_border = calOutlierByIQR(a)\n",
    "        lower_inner_fence = dic_border['lower_inner_fence']\n",
    "        upper_inner_fence = dic_border['upper_inner_fence']\n",
    "        #lower_inner_fence = max(lower_inner_fence, min(a))\n",
    "        #upper_inner_fence = min(upper_inner_fence, max(a))\n",
    "        # begin to filter target point cloud\n",
    "        fcx = np.logical_and(pts_target[:,0] >= i, pts_target[:,0] < (i + cellsize))\n",
    "        fcy = np.logical_and(pts_target[:,1] >= j, pts_target[:,1] < (j + cellsize))\n",
    "        fcz = np.logical_and(pts_target[:,2] >  lower_inner_fence, pts_target[:,2] < upper_inner_fence)\n",
    "        idx = np.logical_and(fcx, fcy)\n",
    "        idx = np.logical_and(fcz, idx)\n",
    "        a = np.argwhere(idx==True)\n",
    "        a = a.ravel()\n",
    "        nid_line = nid_line + a.tolist()\n",
    "    return nid_line"
   ]
  },
  {
   "cell_type": "code",
   "execution_count": null,
   "metadata": {},
   "outputs": [],
   "source": [
    "# export\n",
    "def getVoxelKeys(**kwargs):\n",
    "    pts = kwargs['pts']\n",
    "    voxelsize = kwargs['voxelsize']\n",
    "    mask = kwargs['mask']\n",
    "    pts_min = np.min(pts,axis=0)\n",
    "    a = (pts[mask] - pts_min) // voxelsize\n",
    "    a = a.astype(int)\n",
    "    non_empty_voxel_keys, inverse, nb_pts_per_voxel= np.unique(a, axis=0, return_inverse=True, return_counts=True)\n",
    "    return non_empty_voxel_keys\n",
    "# export\n",
    "def filterPointsByVoxel(**kwargs):\n",
    "    voxelkey = kwargs['voxelkey']\n",
    "    voxelsize = kwargs['voxelsize']\n",
    "    xyz = kwargs['pts']\n",
    "    if 'con' not in kwargs.keys():\n",
    "        con = np.ones((xyz.shape[0],),dtype=np.bool)\n",
    "    else:\n",
    "        con = kwargs['con']\n",
    "    \n",
    "    xyz_min = np.min(xyz,axis=0)\n",
    "    lidx,lidy,lidz = voxelkey\n",
    "    uidx,uidy,uidz = lidx+1, lidy+1, lidz+1\n",
    "    ux = xyz_min[0] + uidx*voxelsize\n",
    "    uy = xyz_min[1] + uidy*voxelsize\n",
    "    uz = xyz_min[2] + uidz*voxelsize\n",
    "    lx = xyz_min[0] + lidx*voxelsize\n",
    "    ly = xyz_min[1] + lidy*voxelsize\n",
    "    lz = xyz_min[2] + lidz*voxelsize\n",
    "    con1 = np.logical_and(xyz[:,0]>lx, xyz[:,0]<=ux)\n",
    "    con2 = np.logical_and(xyz[:,1]>ly, xyz[:,1]<=uy)\n",
    "    con3 = np.logical_and(xyz[:,2]>lz, xyz[:,2]<=uz)\n",
    "    a = np.logical_and(con1, con2)\n",
    "    b = np.logical_and(con3, con)\n",
    "    c = np.logical_and(a,b)\n",
    "    return c"
   ]
  }
 ],
 "metadata": {
  "kernelspec": {
   "display_name": "Python 3",
   "language": "python",
   "name": "python3"
  }
 },
 "nbformat": 4,
 "nbformat_minor": 4
}
