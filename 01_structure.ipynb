{
 "cells": [
  {
   "cell_type": "code",
   "execution_count": null,
   "metadata": {},
   "outputs": [],
   "source": [
    "# default_exp lyuds"
   ]
  },
  {
   "cell_type": "code",
   "execution_count": null,
   "metadata": {},
   "outputs": [],
   "source": [
    "#export\n",
    "class LPoints:\n",
    "    \"the class is used to record the points' indices in the original dataset.\"\n",
    "    def __init__(self, args):\n",
    "        '''\n",
    "        args: a List array including the ID in original data\n",
    "        '''\n",
    "        k = [i for i in range(len(args))]\n",
    "        dic = dict.fromkeys(k)\n",
    "        for k,v in enumerate(args):\n",
    "            dic[k] = v\n",
    "        self.dic = dic\n"
   ]
  }
 ],
 "metadata": {
  "kernelspec": {
   "display_name": "Python 3",
   "language": "python",
   "name": "python3"
  }
 },
 "nbformat": 4,
 "nbformat_minor": 4
}
