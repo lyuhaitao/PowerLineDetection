{
 "cells": [
  {
   "cell_type": "code",
   "execution_count": null,
   "metadata": {},
   "outputs": [],
   "source": [
    "# default_exp lyuds"
   ]
  },
  {
   "cell_type": "markdown",
   "metadata": {},
   "source": [
    "# Basic Data Structure\n",
    "> self-defined data structure"
   ]
  },
  {
   "cell_type": "code",
   "execution_count": null,
   "metadata": {},
   "outputs": [],
   "source": [
    "#export\n",
    "class LPoints:\n",
    "    \"the class is used to record the points' indices in the original dataset.\"\n",
    "    def __init__(self, args):\n",
    "        '''\n",
    "        args: a List array including the ID in original data\n",
    "        '''\n",
    "        k = [i for i in range(len(args))]\n",
    "        dic = dict.fromkeys(k)\n",
    "        for k,v in enumerate(args):\n",
    "            dic[k] = v\n",
    "        self.dic = dic\n"
   ]
  },
  {
   "cell_type": "code",
   "execution_count": null,
   "metadata": {},
   "outputs": [],
   "source": [
    "#export\n",
    "class Hline(object):\n",
    "    \"a class is used to record the details of lines extracted by Hough Transform\"\n",
    "    '''\n",
    "    coord: parameters of a line\n",
    "    line: detailed coordinates\n",
    "    '''\n",
    "    def __init__(self, *args):\n",
    "        self.coord = args[0]\n",
    "        self.line = args[1]\n",
    "        self.angle = args[2]\n",
    "        self.dist = args[3]\n",
    "    def getLengthOfLine(self):\n",
    "        line = self.line\n",
    "        return len(line)"
   ]
  },
  {
   "cell_type": "code",
   "execution_count": null,
   "metadata": {},
   "outputs": [],
   "source": [
    "#export\n",
    "class ImageBuffer():\n",
    "    \"it is use to record the buffer image details of powerline corridors\"\n",
    "    def __init__(self, **kwargs):\n",
    "        self.img = kwargs['img']\n",
    "        self.coord = kwargs['coord']"
   ]
  },
  {
   "cell_type": "code",
   "execution_count": null,
   "metadata": {},
   "outputs": [],
   "source": []
  }
 ],
 "metadata": {
  "kernelspec": {
   "display_name": "Python 3",
   "language": "python",
   "name": "python3"
  }
 },
 "nbformat": 4,
 "nbformat_minor": 4
}
