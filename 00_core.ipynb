{
 "cells": [
  {
   "cell_type": "code",
   "execution_count": null,
   "metadata": {},
   "outputs": [],
   "source": [
    "# default_exp core"
   ]
  },
  {
   "cell_type": "markdown",
   "metadata": {},
   "source": [
    "# Powerline Detection\n",
    "\n",
    "> Use Hough Transform to extract powerlines from LiDAR data."
   ]
  },
  {
   "cell_type": "code",
   "execution_count": null,
   "metadata": {},
   "outputs": [],
   "source": [
    "#hide\n",
    "from nbdev.showdoc import *\n",
    "import pathlib\n",
    "import matplotlib.pyplot as plt\n",
    "from mpl_toolkits import mplot3d\n",
    "import laspy as lp"
   ]
  },
  {
   "cell_type": "code",
   "execution_count": null,
   "metadata": {},
   "outputs": [],
   "source": [
    "#export\n",
    "import numpy as np\n",
    "from tqdm import tqdm\n",
    "from matplotlib.patches import FancyArrowPatch\n",
    "from mpl_toolkits.mplot3d import Axes3D"
   ]
  },
  {
   "cell_type": "code",
   "execution_count": null,
   "metadata": {},
   "outputs": [],
   "source": [
    "#export\n",
    "def grid_subsampling(points, voxel_size):\n",
    "    \"Define a function that takes as input an array of points, and a voxel size expressed in meters\"\n",
    "    \"points: it is from a LiDAR data; voxel_size: the length of edge\"\n",
    "    nb_vox=np.ceil((np.max(points, axis=0) - np.min(points, axis=0))/voxel_size)\n",
    "    print(nb_vox.shape)\n",
    "    a = ((points - np.min(points, axis=0)) // voxel_size).astype(int)\n",
    "    non_empty_voxel_keys, inverse, nb_pts_per_voxel= np.unique(a, axis=0, return_inverse=True, return_counts=True)\n",
    "    idx_pts_vox_sorted=np.argsort(inverse)\n",
    "    voxel_grid={}\n",
    "    grid_barycenter,grid_candidate_center=[],[]\n",
    "    last_seen=0\n",
    "    for idx, vox in enumerate(tqdm(non_empty_voxel_keys)):\n",
    "        per_voxel = nb_pts_per_voxel[idx]\n",
    "        num_pvs   = last_seen + per_voxel\n",
    "        idxs      = idx_pts_vox_sorted[last_seen: num_pvs]\n",
    "        voxel_grid[tuple(vox)] = points[idxs]\n",
    "        gbc = np.mean(points[idxs], axis=0)\n",
    "        grid_barycenter.append(gbc)\n",
    "        #\n",
    "        temp = voxel_grid[tuple(vox)]-np.mean(voxel_grid[tuple(vox)],axis=0)\n",
    "        temp = np.linalg.norm(temp, axis=1).argmin()                                             \n",
    "        grid_candidate_center.append(voxel_grid[tuple(vox)][temp])\n",
    "        last_seen += per_voxel\n",
    "    #\n",
    "    grid_barycenter       = np.array(grid_barycenter)\n",
    "    grid_candidate_center = np.array(grid_candidate_center)\n",
    "    return {'barycenter': grid_barycenter, 'candidate': grid_candidate_center}"
   ]
  },
  {
   "cell_type": "code",
   "execution_count": null,
   "metadata": {},
   "outputs": [],
   "source": [
    "#export\n",
    "class Arrow3D(FancyArrowPatch):\n",
    "    \"it is a FancyArrowPatch Class, w\"\n",
    "    def __init__(self, x, y, z, dx, dy, dz, *args, **kwargs):\n",
    "        super().__init__((0,0),(0,0), *args, **kwargs)\n",
    "        self._xyz = (x,y,z)\n",
    "        self._dxdydz = (dx,dy,dz)\n",
    "    def draw(self, renderer):\n",
    "        x1,y1,z1 = self._xyz\n",
    "        dx,dy,dz = self._dxdydz\n",
    "        x2,y2,z2 = (x1+dx, y1+dy, z1+dz)\n",
    "                \n",
    "        xs, ys, zs = proj_transform((x1,x2),(y1,y2),(z1,z2), renderer.M)\n",
    "        self.set_positions((xs[0],ys[0]),(xs[1],ys[1]))\n",
    "        super().draw(renderer)\n",
    "#\n",
    "def _arrow3D(ax, x, y, z, dx, dy, dz, *args, **kwargs):\n",
    "    '''Add an 3d arrow to an `Axes3D` instance.'''\n",
    "\n",
    "    arrow = Arrow3D(x, y, z, dx, dy, dz, *args, **kwargs)\n",
    "    ax.add_artist(arrow)"
   ]
  },
  {
   "cell_type": "code",
   "execution_count": null,
   "metadata": {},
   "outputs": [
    {
     "name": "stdout",
     "output_type": "stream",
     "text": [
      "Converted 00_core.ipynb.\n",
      "Converted index.ipynb.\n"
     ]
    }
   ],
   "source": [
    "#hide\n",
    "from nbdev.export import notebook2script\n",
    "notebook2script()"
   ]
  }
 ],
 "metadata": {
  "kernelspec": {
   "display_name": "Python 3",
   "language": "python",
   "name": "python3"
  }
 },
 "nbformat": 4,
 "nbformat_minor": 2
}
