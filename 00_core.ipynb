{
 "cells": [
  {
   "cell_type": "code",
   "execution_count": null,
   "metadata": {},
   "outputs": [],
   "source": [
    "# default_exp core"
   ]
  },
  {
   "cell_type": "markdown",
   "metadata": {},
   "source": [
    "# Powerline Detection\n",
    "\n",
    "> Use Hough Transform to extract powerlines from LiDAR data."
   ]
  },
  {
   "cell_type": "code",
   "execution_count": null,
   "metadata": {},
   "outputs": [],
   "source": [
    "#hide\n",
    "from nbdev.showdoc import *\n",
    "import pathlib\n",
    "import matplotlib.pyplot as plt\n",
    "from mpl_toolkits import mplot3d\n",
    "import laspy as lp"
   ]
  },
  {
   "cell_type": "code",
   "execution_count": null,
   "metadata": {},
   "outputs": [],
   "source": [
    "#export\n",
    "import numpy as np\n",
    "from tqdm import tqdm"
   ]
  },
  {
   "cell_type": "code",
   "execution_count": null,
   "metadata": {},
   "outputs": [],
   "source": [
    "#export\n",
    "def grid_subsampling(points, voxel_size):\n",
    "    nb_vox=np.ceil((np.max(points, axis=0) - np.min(points, axis=0))/voxel_size)\n",
    "    print(nb_vox.shape)\n",
    "    a = ((points - np.min(points, axis=0)) // voxel_size).astype(int)\n",
    "    non_empty_voxel_keys, inverse, nb_pts_per_voxel= np.unique(a, axis=0, return_inverse=True, return_counts=True)\n",
    "    idx_pts_vox_sorted=np.argsort(inverse)\n",
    "    voxel_grid={}\n",
    "    grid_barycenter,grid_candidate_center=[],[]\n",
    "    last_seen=0\n",
    "    for idx, vox in enumerate(tqdm(non_empty_voxel_keys)):\n",
    "        per_voxel = nb_pts_per_voxel[idx]\n",
    "        num_pvs   = last_seen + per_voxel\n",
    "        idxs      = idx_pts_vox_sorted[last_seen: num_pvs]\n",
    "        voxel_grid[tuple(vox)] = points[idxs]\n",
    "        gbc = np.mean(points[idxs], axis=0)\n",
    "        grid_barycenter.append(gbc)\n",
    "        #\n",
    "        temp = voxel_grid[tuple(vox)]-np.mean(voxel_grid[tuple(vox)],axis=0)\n",
    "        temp = np.linalg.norm(temp, axis=1).argmin()                                             \n",
    "        grid_candidate_center.append(voxel_grid[tuple(vox)][temp])\n",
    "        last_seen += per_voxel\n",
    "    #\n",
    "    grid_barycenter       = np.array(grid_barycenter)\n",
    "    grid_candidate_center = np.array(grid_candidate_center)\n",
    "    return {'barycenter': grid_barycenter, 'candidate': grid_candidate_center}"
   ]
  },
  {
   "cell_type": "code",
   "execution_count": null,
   "metadata": {},
   "outputs": [
    {
     "name": "stdout",
     "output_type": "stream",
     "text": [
      "Converted 00_core.ipynb.\n",
      "Converted index.ipynb.\n"
     ]
    }
   ],
   "source": [
    "#hide\n",
    "from nbdev.export import notebook2script\n",
    "notebook2script()"
   ]
  }
 ],
 "metadata": {
  "kernelspec": {
   "display_name": "Python 3",
   "language": "python",
   "name": "python3"
  }
 },
 "nbformat": 4,
 "nbformat_minor": 2
}
